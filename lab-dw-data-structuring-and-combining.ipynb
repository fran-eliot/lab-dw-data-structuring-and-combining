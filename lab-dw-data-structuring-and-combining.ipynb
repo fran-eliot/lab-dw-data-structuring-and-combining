{
 "cells": [
  {
   "cell_type": "markdown",
   "id": "25d7736c-ba17-4aff-b6bb-66eba20fbf4e",
   "metadata": {
    "id": "25d7736c-ba17-4aff-b6bb-66eba20fbf4e"
   },
   "source": [
    "# Lab | Data Structuring and Combining Data"
   ]
  },
  {
   "cell_type": "markdown",
   "id": "a2cdfc70-44c8-478c-81e7-2bc43fdf4986",
   "metadata": {
    "id": "a2cdfc70-44c8-478c-81e7-2bc43fdf4986"
   },
   "source": [
    "## Challenge 1: Combining & Cleaning Data\n",
    "\n",
    "In this challenge, we will be working with the customer data from an insurance company, as we did in the two previous labs. The data can be found here:\n",
    "- https://raw.githubusercontent.com/data-bootcamp-v4/data/main/file1.csv\n",
    "\n",
    "But this time, we got new data, which can be found in the following 2 CSV files located at the links below.\n",
    "\n",
    "- https://raw.githubusercontent.com/data-bootcamp-v4/data/main/file2.csv\n",
    "- https://raw.githubusercontent.com/data-bootcamp-v4/data/main/file3.csv\n",
    "\n",
    "Note that you'll need to clean and format the new data.\n",
    "\n",
    "Observation:\n",
    "- One option is to first combine the three datasets and then apply the cleaning function to the new combined dataset\n",
    "- Another option would be to read the clean file you saved in the previous lab, and just clean the two new files and concatenate the three clean datasets"
   ]
  },
  {
   "cell_type": "code",
   "execution_count": 9,
   "id": "492d06e3-92c7-4105-ac72-536db98d3244",
   "metadata": {
    "id": "492d06e3-92c7-4105-ac72-536db98d3244"
   },
   "outputs": [
    {
     "data": {
      "text/plain": [
       "Index(['customer', 'state', 'gender', 'education', 'customer_lifetime_value',\n",
       "       'income', 'monthly_premium_auto', 'number_of_open_complaints',\n",
       "       'policy_type', 'vehicle_class', 'total_claim_amount'],\n",
       "      dtype='object')"
      ]
     },
     "execution_count": 9,
     "metadata": {},
     "output_type": "execute_result"
    }
   ],
   "source": [
    "import pandas as pd\n",
    "import importlib\n",
    "import functions_cleanning\n",
    "importlib.reload(functions_cleanning)\n",
    "from functions_cleanning import *\n",
    "\n",
    "df1 = (\n",
    "    pd.read_csv('https://raw.githubusercontent.com/data-bootcamp-v4/data/main/file1.csv')\n",
    "    .pipe(cleaning_columns_names)\n",
    "    .pipe(cleaning_invalid_values)\n",
    "    .pipe(formatting_data_types)\n",
    "    .pipe(dealing_with_null_values)\n",
    "    .pipe(dealing_with_duplicates)\n",
    ")\n",
    "\n",
    "df2 = (\n",
    "    pd.read_csv('https://raw.githubusercontent.com/data-bootcamp-v4/data/main/file2.csv')\n",
    "    .pipe(cleaning_columns_names)\n",
    "    .pipe(cleaning_invalid_values)\n",
    "    .pipe(formatting_data_types)\n",
    "    .pipe(dealing_with_null_values)\n",
    "    .pipe(dealing_with_duplicates)\n",
    ")\n",
    "\n",
    "df3 = (\n",
    "    pd.read_csv('https://raw.githubusercontent.com/data-bootcamp-v4/data/main/file3.csv')\n",
    "    .pipe(cleaning_columns_names)\n",
    "    .pipe(cleaning_invalid_values)\n",
    "    .pipe(formatting_data_types)\n",
    "    .pipe(dealing_with_null_values)\n",
    "    .pipe(dealing_with_duplicates)\n",
    ")\n",
    "\n",
    "df = pd.concat([df1,df2,df3])\n",
    "\n",
    "df.head()\n",
    "\n",
    "df.columns\n"
   ]
  },
  {
   "cell_type": "markdown",
   "id": "31b8a9e7-7db9-4604-991b-ef6771603e57",
   "metadata": {
    "id": "31b8a9e7-7db9-4604-991b-ef6771603e57"
   },
   "source": [
    "# Challenge 2: Structuring Data"
   ]
  },
  {
   "cell_type": "markdown",
   "id": "a877fd6d-7a0c-46d2-9657-f25036e4ca4b",
   "metadata": {
    "id": "a877fd6d-7a0c-46d2-9657-f25036e4ca4b"
   },
   "source": [
    "In this challenge, we will continue to work with customer data from an insurance company, but we will use a dataset with more columns, called marketing_customer_analysis.csv, which can be found at the following link:\n",
    "\n",
    "https://raw.githubusercontent.com/data-bootcamp-v4/data/main/marketing_customer_analysis_clean.csv\n",
    "\n",
    "This dataset contains information such as customer demographics, policy details, vehicle information, and the customer's response to the last marketing campaign. Our goal is to explore and analyze this data by performing data cleaning, formatting, and structuring."
   ]
  },
  {
   "cell_type": "code",
   "execution_count": 69,
   "id": "aa10d9b0-1c27-4d3f-a8e4-db6ab73bfd26",
   "metadata": {
    "id": "aa10d9b0-1c27-4d3f-a8e4-db6ab73bfd26"
   },
   "outputs": [
    {
     "data": {
      "text/html": [
       "<div>\n",
       "<style scoped>\n",
       "    .dataframe tbody tr th:only-of-type {\n",
       "        vertical-align: middle;\n",
       "    }\n",
       "\n",
       "    .dataframe tbody tr th {\n",
       "        vertical-align: top;\n",
       "    }\n",
       "\n",
       "    .dataframe thead th {\n",
       "        text-align: right;\n",
       "    }\n",
       "</style>\n",
       "<table border=\"1\" class=\"dataframe\">\n",
       "  <thead>\n",
       "    <tr style=\"text-align: right;\">\n",
       "      <th></th>\n",
       "      <th>customer</th>\n",
       "      <th>state_x</th>\n",
       "      <th>gender_x</th>\n",
       "      <th>education_x</th>\n",
       "      <th>customer_lifetime_value_x</th>\n",
       "      <th>income_x</th>\n",
       "      <th>monthly_premium_auto_x</th>\n",
       "      <th>number_of_open_complaints_x</th>\n",
       "      <th>policy_type_x</th>\n",
       "      <th>vehicle_class_x</th>\n",
       "      <th>...</th>\n",
       "      <th>number_of_policies</th>\n",
       "      <th>policy_type_y</th>\n",
       "      <th>policy</th>\n",
       "      <th>renew_offer_type</th>\n",
       "      <th>sales_channel</th>\n",
       "      <th>total_claim_amount_y</th>\n",
       "      <th>vehicle_class_y</th>\n",
       "      <th>vehicle_size</th>\n",
       "      <th>vehicle_type</th>\n",
       "      <th>month</th>\n",
       "    </tr>\n",
       "  </thead>\n",
       "  <tbody>\n",
       "    <tr>\n",
       "      <th>0</th>\n",
       "      <td>QZ44356</td>\n",
       "      <td>Arizona</td>\n",
       "      <td>F</td>\n",
       "      <td>Bachelor</td>\n",
       "      <td>697953</td>\n",
       "      <td>0</td>\n",
       "      <td>94</td>\n",
       "      <td>1</td>\n",
       "      <td>Personal Auto</td>\n",
       "      <td>Four-Door Car</td>\n",
       "      <td>...</td>\n",
       "      <td>8</td>\n",
       "      <td>Personal Auto</td>\n",
       "      <td>Personal L3</td>\n",
       "      <td>Offer3</td>\n",
       "      <td>Agent</td>\n",
       "      <td>1131</td>\n",
       "      <td>Four-Door Car</td>\n",
       "      <td>Medsize</td>\n",
       "      <td>A</td>\n",
       "      <td>1</td>\n",
       "    </tr>\n",
       "    <tr>\n",
       "      <th>1</th>\n",
       "      <td>AI49188</td>\n",
       "      <td>Nevada</td>\n",
       "      <td>F</td>\n",
       "      <td>Bachelor</td>\n",
       "      <td>1288743</td>\n",
       "      <td>48767</td>\n",
       "      <td>108</td>\n",
       "      <td>1</td>\n",
       "      <td>Personal Auto</td>\n",
       "      <td>Two-Door Car</td>\n",
       "      <td>...</td>\n",
       "      <td>2</td>\n",
       "      <td>Personal Auto</td>\n",
       "      <td>Personal L3</td>\n",
       "      <td>Offer1</td>\n",
       "      <td>Agent</td>\n",
       "      <td>566</td>\n",
       "      <td>Two-Door Car</td>\n",
       "      <td>Medsize</td>\n",
       "      <td>A</td>\n",
       "      <td>2</td>\n",
       "    </tr>\n",
       "    <tr>\n",
       "      <th>2</th>\n",
       "      <td>WW63253</td>\n",
       "      <td>California</td>\n",
       "      <td>M</td>\n",
       "      <td>Bachelor</td>\n",
       "      <td>764586</td>\n",
       "      <td>0</td>\n",
       "      <td>106</td>\n",
       "      <td>1</td>\n",
       "      <td>Corporate Auto</td>\n",
       "      <td>SUV</td>\n",
       "      <td>...</td>\n",
       "      <td>7</td>\n",
       "      <td>Corporate Auto</td>\n",
       "      <td>Corporate L2</td>\n",
       "      <td>Offer1</td>\n",
       "      <td>Call Center</td>\n",
       "      <td>529</td>\n",
       "      <td>SUV</td>\n",
       "      <td>Medsize</td>\n",
       "      <td>A</td>\n",
       "      <td>1</td>\n",
       "    </tr>\n",
       "    <tr>\n",
       "      <th>3</th>\n",
       "      <td>GA49547</td>\n",
       "      <td>Washington</td>\n",
       "      <td>M</td>\n",
       "      <td>High School or Below</td>\n",
       "      <td>536307</td>\n",
       "      <td>36357</td>\n",
       "      <td>68</td>\n",
       "      <td>1</td>\n",
       "      <td>Personal Auto</td>\n",
       "      <td>Four-Door Car</td>\n",
       "      <td>...</td>\n",
       "      <td>6</td>\n",
       "      <td>Personal Auto</td>\n",
       "      <td>Personal L3</td>\n",
       "      <td>Offer1</td>\n",
       "      <td>Branch</td>\n",
       "      <td>17</td>\n",
       "      <td>Four-Door Car</td>\n",
       "      <td>Medsize</td>\n",
       "      <td>A</td>\n",
       "      <td>2</td>\n",
       "    </tr>\n",
       "    <tr>\n",
       "      <th>4</th>\n",
       "      <td>OC83172</td>\n",
       "      <td>Oregon</td>\n",
       "      <td>F</td>\n",
       "      <td>Bachelor</td>\n",
       "      <td>825629</td>\n",
       "      <td>62902</td>\n",
       "      <td>69</td>\n",
       "      <td>1</td>\n",
       "      <td>Personal Auto</td>\n",
       "      <td>Two-Door Car</td>\n",
       "      <td>...</td>\n",
       "      <td>2</td>\n",
       "      <td>Personal Auto</td>\n",
       "      <td>Personal L3</td>\n",
       "      <td>Offer2</td>\n",
       "      <td>Web</td>\n",
       "      <td>159</td>\n",
       "      <td>Two-Door Car</td>\n",
       "      <td>Medsize</td>\n",
       "      <td>A</td>\n",
       "      <td>1</td>\n",
       "    </tr>\n",
       "  </tbody>\n",
       "</table>\n",
       "<p>5 rows × 37 columns</p>\n",
       "</div>"
      ],
      "text/plain": [
       "  customer     state_x gender_x           education_x  \\\n",
       "0  QZ44356     Arizona        F              Bachelor   \n",
       "1  AI49188      Nevada        F              Bachelor   \n",
       "2  WW63253  California        M              Bachelor   \n",
       "3  GA49547  Washington        M  High School or Below   \n",
       "4  OC83172      Oregon        F              Bachelor   \n",
       "\n",
       "   customer_lifetime_value_x  income_x  monthly_premium_auto_x  \\\n",
       "0                     697953         0                      94   \n",
       "1                    1288743     48767                     108   \n",
       "2                     764586         0                     106   \n",
       "3                     536307     36357                      68   \n",
       "4                     825629     62902                      69   \n",
       "\n",
       "   number_of_open_complaints_x   policy_type_x vehicle_class_x  ...  \\\n",
       "0                            1   Personal Auto   Four-Door Car  ...   \n",
       "1                            1   Personal Auto    Two-Door Car  ...   \n",
       "2                            1  Corporate Auto             SUV  ...   \n",
       "3                            1   Personal Auto   Four-Door Car  ...   \n",
       "4                            1   Personal Auto    Two-Door Car  ...   \n",
       "\n",
       "   number_of_policies   policy_type_y        policy  renew_offer_type  \\\n",
       "0                   8   Personal Auto   Personal L3            Offer3   \n",
       "1                   2   Personal Auto   Personal L3            Offer1   \n",
       "2                   7  Corporate Auto  Corporate L2            Offer1   \n",
       "3                   6   Personal Auto   Personal L3            Offer1   \n",
       "4                   2   Personal Auto   Personal L3            Offer2   \n",
       "\n",
       "  sales_channel total_claim_amount_y vehicle_class_y vehicle_size  \\\n",
       "0         Agent                 1131   Four-Door Car      Medsize   \n",
       "1         Agent                  566    Two-Door Car      Medsize   \n",
       "2   Call Center                  529             SUV      Medsize   \n",
       "3        Branch                   17   Four-Door Car      Medsize   \n",
       "4           Web                  159    Two-Door Car      Medsize   \n",
       "\n",
       "  vehicle_type month  \n",
       "0            A     1  \n",
       "1            A     2  \n",
       "2            A     1  \n",
       "3            A     2  \n",
       "4            A     1  \n",
       "\n",
       "[5 rows x 37 columns]"
      ]
     },
     "execution_count": 69,
     "metadata": {},
     "output_type": "execute_result"
    }
   ],
   "source": [
    "df4 = (\n",
    "    pd.read_csv('https://raw.githubusercontent.com/data-bootcamp-v4/data/main/marketing_customer_analysis_clean.csv')\n",
    "    .pipe(cleaning_columns_names)\n",
    "    .pipe(cleaning_invalid_values)\n",
    "    .pipe(formatting_data_types)\n",
    "    .pipe(dealing_with_null_values)\n",
    "    .pipe(dealing_with_duplicates)\n",
    ")\n",
    "\n",
    "\n",
    "df_final = pd.merge(df,df4,on='customer',how=\"inner\")\n",
    "\n",
    "df_final.head()"
   ]
  },
  {
   "cell_type": "markdown",
   "id": "df35fd0d-513e-4e77-867e-429da10a9cc7",
   "metadata": {
    "id": "df35fd0d-513e-4e77-867e-429da10a9cc7"
   },
   "source": [
    "1. You work at the marketing department and you want to know which sales channel brought the most sales in terms of total revenue. Using pivot, create a summary table showing the total revenue for each sales channel (branch, call center, web, and mail).\n",
    "Round the total revenue to 2 decimal points.  Analyze the resulting table to draw insights."
   ]
  },
  {
   "cell_type": "code",
   "execution_count": null,
   "id": "dc5bd6b7",
   "metadata": {},
   "outputs": [
    {
     "name": "stdout",
     "output_type": "stream",
     "text": [
      "               total_claim_amount_x\n",
      "sales_channel                      \n",
      "Agent                       1774448\n",
      "Branch                      1268749\n",
      "Call Center                  903066\n",
      "Web                          694658\n"
     ]
    }
   ],
   "source": [
    "# Creamos la tabla resumen (pivot table)\n",
    "tabla_revenue = df_final.pivot_table(\n",
    "    index='sales_channel',\n",
    "    values='total_claim_amount_x',\n",
    "    aggfunc='sum'\n",
    ").round(2)\n",
    "\n",
    "# Mostramos la tabla\n",
    "print(tabla_revenue)\n",
    "\n",
    "# Podemos concluir que los canales de agentes obtienen mayores ganancias, y el medio de web es que menor ganancia reporta"
   ]
  },
  {
   "cell_type": "markdown",
   "id": "640993b2-a291-436c-a34d-a551144f8196",
   "metadata": {
    "id": "640993b2-a291-436c-a34d-a551144f8196"
   },
   "source": [
    "2. Create a pivot table that shows the average customer lifetime value per gender and education level. Analyze the resulting table to draw insights."
   ]
  },
  {
   "cell_type": "code",
   "execution_count": null,
   "id": "9cd43211",
   "metadata": {},
   "outputs": [
    {
     "name": "stdout",
     "output_type": "stream",
     "text": [
      "education_x   Bachelor    College     Doctor  High School or Below     Master\n",
      "gender_x                                                                     \n",
      "F            170853.12  201484.48  189442.73             183280.35  190537.80\n",
      "M            148726.09  176922.23  154670.76             181979.49  151575.06\n"
     ]
    }
   ],
   "source": [
    "# Creamos la tabla resumen (pivot table)\n",
    "tabla_lifetime_value_mean = df_final.pivot_table(\n",
    "    index='gender_x',\n",
    "    columns='education_x',\n",
    "    values='customer_lifetime_value_x',\n",
    "    aggfunc='mean'\n",
    ").round(2)\n",
    "\n",
    "# Mostramos la tabla\n",
    "print(tabla_lifetime_value_mean)\n",
    "\n",
    "# Podemos concluir que las mujeres suelen tener mayor valor excepto personas con Master\n",
    "# A medida que aumenta el nivel de educación también aumenta el valor pero luego disminuye tras la Universidad en mujeres y en hombres tras la High School"
   ]
  },
  {
   "cell_type": "markdown",
   "id": "32c7f2e5-3d90-43e5-be33-9781b6069198",
   "metadata": {
    "id": "32c7f2e5-3d90-43e5-be33-9781b6069198"
   },
   "source": [
    "## Bonus\n",
    "\n",
    "You work at the customer service department and you want to know which months had the highest number of complaints by policy type category. Create a summary table showing the number of complaints by policy type and month.\n",
    "Show it in a long format table."
   ]
  },
  {
   "cell_type": "markdown",
   "id": "e3d09a8f-953c-448a-a5f8-2e5a8cca7291",
   "metadata": {
    "id": "e3d09a8f-953c-448a-a5f8-2e5a8cca7291"
   },
   "source": [
    "*In data analysis, a long format table is a way of structuring data in which each observation or measurement is stored in a separate row of the table. The key characteristic of a long format table is that each column represents a single variable, and each row represents a single observation of that variable.*\n",
    "\n",
    "*More information about long and wide format tables here: https://www.statology.org/long-vs-wide-data/*"
   ]
  },
  {
   "cell_type": "code",
   "execution_count": 88,
   "id": "3a069e0b-b400-470e-904d-d17582191be4",
   "metadata": {
    "id": "3a069e0b-b400-470e-904d-d17582191be4"
   },
   "outputs": [
    {
     "name": "stdout",
     "output_type": "stream",
     "text": [
      "month              1     2\n",
      "policy_type_x             \n",
      "Corporate Auto   631   558\n",
      "Personal Auto   2425  2084\n",
      "Special Auto     138   118\n",
      "    policy_type_x month  number_of_open_complaints\n",
      "0  Corporate Auto     1                        631\n",
      "1   Personal Auto     1                       2425\n",
      "2    Special Auto     1                        138\n",
      "3  Corporate Auto     2                        558\n",
      "4   Personal Auto     2                       2084\n",
      "5    Special Auto     2                        118\n"
     ]
    }
   ],
   "source": [
    "# Primero obtenemos la tabla pivot necesaria\n",
    "tabla = df_final.pivot_table(\n",
    "    index='policy_type_x',\n",
    "    columns='month',\n",
    "    values='number_of_open_complaints_x',\n",
    "    aggfunc='sum'\n",
    ").round(2)\n",
    "\n",
    "print(tabla)\n",
    "\n",
    "# Convertimos a formato largo\n",
    "tabla_larga = tabla.reset_index().melt(id_vars='policy_type_x', var_name='month', value_name='number_of_open_complaints')\n",
    "\n",
    "print(tabla_larga)"
   ]
  }
 ],
 "metadata": {
  "colab": {
   "provenance": []
  },
  "kernelspec": {
   "display_name": "venv",
   "language": "python",
   "name": "python3"
  },
  "language_info": {
   "codemirror_mode": {
    "name": "ipython",
    "version": 3
   },
   "file_extension": ".py",
   "mimetype": "text/x-python",
   "name": "python",
   "nbconvert_exporter": "python",
   "pygments_lexer": "ipython3",
   "version": "3.12.2"
  }
 },
 "nbformat": 4,
 "nbformat_minor": 5
}
